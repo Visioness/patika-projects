{
 "cells": [
  {
   "cell_type": "code",
   "execution_count": null,
   "metadata": {},
   "outputs": [],
   "source": [
    "import numpy as np\n",
    "import pandas as pd\n",
    "import matplotlib.pyplot as plt\n",
    "import seaborn as sns"
   ]
  },
  {
   "cell_type": "code",
   "execution_count": null,
   "metadata": {},
   "outputs": [],
   "source": [
    "df = pd.read_csv(\"diabetes.csv\")\n",
    "df.head()"
   ]
  },
  {
   "cell_type": "code",
   "execution_count": null,
   "metadata": {},
   "outputs": [],
   "source": [
    "df_copy = df.copy()\n",
    "df_copy[[\"Glucose\",\"BloodPressure\",\"SkinThickness\",\"Insulin\",\"BMI\"]] = df[[\"Glucose\",\"BloodPressure\",\"SkinThickness\",\"Insulin\",\"BMI\"]].replace(0,np.NaN)\n"
   ]
  },
  {
   "cell_type": "code",
   "execution_count": null,
   "metadata": {},
   "outputs": [],
   "source": [
    "df_copy[\"Glucose\"].fillna(df_copy[\"Glucose\"].mean(),inplace=True)\n",
    "df_copy[\"BloodPressure\"].fillna(df_copy[\"BloodPressure\"].mean(),inplace=True)\n",
    "df_copy[\"SkinThickness\"].fillna(df_copy[\"SkinThickness\"].median(),inplace=True)\n",
    "df_copy[\"Insulin\"].fillna(df_copy[\"Insulin\"].median(),inplace=True)\n",
    "df_copy[\"BMI\"].fillna(df_copy[\"BMI\"].mean(),inplace=True)"
   ]
  },
  {
   "cell_type": "code",
   "execution_count": null,
   "metadata": {},
   "outputs": [],
   "source": [
    "plt.figure(figsize=(16,12))\n",
    "sns.set_style(style='whitegrid')\n",
    "plt.subplot(3,3,1)\n",
    "sns.boxplot(x='Glucose',data=df_copy)\n",
    "plt.subplot(3,3,2)\n",
    "sns.boxplot(x='BloodPressure',data=df_copy)\n",
    "plt.subplot(3,3,3)\n",
    "sns.boxplot(x='Insulin',data=df_copy)\n",
    "plt.subplot(3,3,4)\n",
    "sns.boxplot(x='BMI',data=df_copy)\n",
    "plt.subplot(3,3,5)\n",
    "sns.boxplot(x='Age',data=df_copy)\n",
    "plt.subplot(3,3,6)\n",
    "sns.boxplot(x='SkinThickness',data=df_copy)\n",
    "plt.subplot(3,3,7)\n",
    "sns.boxplot(x='Pregnancies',data=df_copy)\n",
    "plt.subplot(3,3,8)\n",
    "sns.boxplot(x='DiabetesPedigreeFunction',data=df_copy)"
   ]
  },
  {
   "cell_type": "code",
   "execution_count": null,
   "metadata": {},
   "outputs": [],
   "source": [
    "X = df_copy.drop(\"Outcome\",axis=1)\n",
    "y = df_copy[\"Outcome\"]"
   ]
  },
  {
   "cell_type": "code",
   "execution_count": null,
   "metadata": {},
   "outputs": [],
   "source": [
    "X_copy = X.copy()\n",
    "X_copy"
   ]
  },
  {
   "cell_type": "code",
   "execution_count": null,
   "metadata": {},
   "outputs": [],
   "source": [
    "X_ss = X_copy[[\"Glucose\",\"BMI\"]]\n",
    "X_qt = X_copy[['Pregnancies', 'BloodPressure', 'SkinThickness', 'Insulin','DiabetesPedigreeFunction', 'Age']]"
   ]
  },
  {
   "cell_type": "code",
   "execution_count": null,
   "metadata": {},
   "outputs": [],
   "source": [
    "from sklearn.preprocessing import QuantileTransformer\n",
    "from sklearn.preprocessing import StandardScaler\n"
   ]
  },
  {
   "cell_type": "code",
   "execution_count": null,
   "metadata": {},
   "outputs": [],
   "source": [
    "ss = StandardScaler()\n",
    "X_scaler = ss.fit_transform(X_ss)\n",
    "\n",
    "quantile_transformer = QuantileTransformer(random_state=0)\n",
    "X_trans = quantile_transformer.fit_transform(X_qt)"
   ]
  },
  {
   "cell_type": "code",
   "execution_count": null,
   "metadata": {},
   "outputs": [],
   "source": [
    "df_ss = pd.DataFrame(X_scaler,columns=[\"Glucose\",\"BMI\"])\n",
    "df_qt = pd.DataFrame(X_trans, columns=['Pregnancies', 'BloodPressure', 'SkinThickness', 'Insulin','DiabetesPedigreeFunction', 'Age'])"
   ]
  },
  {
   "cell_type": "code",
   "execution_count": null,
   "metadata": {},
   "outputs": [],
   "source": [
    "X_new = df_qt.join(df_ss, how='inner')\n",
    "X_new.head()"
   ]
  },
  {
   "cell_type": "code",
   "execution_count": null,
   "metadata": {},
   "outputs": [],
   "source": [
    "plt.figure(figsize=(16,12))\n",
    "sns.set_style(style='whitegrid')\n",
    "plt.subplot(3,3,1)\n",
    "sns.boxplot(x='Glucose',data=X_new)\n",
    "plt.subplot(3,3,2)\n",
    "sns.boxplot(x='BloodPressure',data=X_new)\n",
    "plt.subplot(3,3,3)\n",
    "sns.boxplot(x='Insulin',data=X_new)\n",
    "plt.subplot(3,3,4)\n",
    "sns.boxplot(x='BMI',data=X_new)\n",
    "plt.subplot(3,3,5)\n",
    "sns.boxplot(x='Age',data=X_new)\n",
    "plt.subplot(3,3,6)\n",
    "sns.boxplot(x='SkinThickness',data=X_new)\n",
    "plt.subplot(3,3,7)\n",
    "sns.boxplot(x='Pregnancies',data=X_new)\n",
    "plt.subplot(3,3,8)\n",
    "sns.boxplot(x='DiabetesPedigreeFunction',data=X_new)"
   ]
  },
  {
   "cell_type": "code",
   "execution_count": null,
   "metadata": {},
   "outputs": [],
   "source": [
    "plt.figure(figsize=(16,12))\n",
    "sns.set_style(style='whitegrid')\n",
    "plt.subplot(3,3,1)\n",
    "sns.boxplot(x=X_new['Glucose'],data=X_new)\n",
    "plt.subplot(3,3,2)\n",
    "sns.boxplot(x=X_new['BMI'],data=X_new)\n",
    "plt.subplot(3,3,3)\n",
    "sns.boxplot(x=X_new['Pregnancies'],data=X_new)\n",
    "plt.subplot(3,3,4)\n",
    "sns.boxplot(x=X_new['Age'],data=X_new)\n",
    "plt.subplot(3,3,5)\n",
    "sns.boxplot(x=X_new['SkinThickness'],data=X_new)"
   ]
  },
  {
   "cell_type": "code",
   "execution_count": null,
   "metadata": {},
   "outputs": [],
   "source": [
    "from sklearn.model_selection import train_test_split\n",
    "from sklearn.neighbors import KNeighborsClassifier\n",
    "X_train,X_test,y_train,y_test = train_test_split(X_new,y,test_size=0.3,random_state=42)\n",
    "knn = KNeighborsClassifier()\n",
    "knn_model = knn.fit(X_train,y_train)\n",
    "y_pred = knn_model.predict(X_test)\n",
    "from sklearn.metrics import accuracy_score\n",
    "accuracy_score(y_test,y_pred)"
   ]
  },
  {
   "cell_type": "code",
   "execution_count": null,
   "metadata": {},
   "outputs": [],
   "source": [
    "from sklearn.metrics import classification_report,confusion_matrix\n",
    "from sklearn.metrics import f1_score, precision_score, recall_score\n",
    "print(\"Classification Report is:\\n\",classification_report(y_test,y_pred))\n",
    "print(\"\\n F1:\\n\",f1_score(y_test,y_pred))\n",
    "print(\"\\n Precision score is:\\n\",precision_score(y_test,y_pred))\n",
    "print(\"\\n Recall score is:\\n\",recall_score(y_test,y_pred))\n",
    "print(\"\\n Confusion Matrix:\\n\")\n",
    "print(confusion_matrix(y_test,y_pred))\n",
    "plt.figure(figsize=(15,8))\n",
    "sns.heatmap(confusion_matrix(y_test,y_pred),annot=True)\n",
    "plt.ylabel('Prediction',fontsize=13)\n",
    "plt.xlabel('Actual',fontsize=13)\n",
    "plt.title('Confusion Matrix',fontsize=17)\n",
    "plt.show()"
   ]
  },
  {
   "cell_type": "code",
   "execution_count": null,
   "metadata": {},
   "outputs": [],
   "source": [
    "test_scores = []\n",
    "train_scores = []\n",
    "\n",
    "for i in range(1,15):\n",
    "\n",
    "    knn = KNeighborsClassifier(i)\n",
    "    knn.fit(X_train,y_train)\n",
    "    \n",
    "    train_scores.append(knn.score(X_train,y_train))\n",
    "    test_scores.append(knn.score(X_test,y_test))"
   ]
  },
  {
   "cell_type": "code",
   "execution_count": null,
   "metadata": {},
   "outputs": [],
   "source": [
    "max_train_score = max(train_scores)\n",
    "train_scores_ind = [i for i, v in enumerate(train_scores) if v == max_train_score]\n",
    "print('Max train score {} % and k = {}'.format(max_train_score*100,list(map(lambda x: x+1, train_scores_ind))))"
   ]
  },
  {
   "cell_type": "code",
   "execution_count": null,
   "metadata": {},
   "outputs": [],
   "source": [
    "max_test_score = max(test_scores)\n",
    "test_scores_ind = [i for i, v in enumerate(test_scores) if v == max_test_score]\n",
    "print('Max test score {} % and k = {}'.format(max_test_score*100,list(map(lambda x: x+1, test_scores_ind))))"
   ]
  },
  {
   "cell_type": "code",
   "execution_count": null,
   "metadata": {},
   "outputs": [],
   "source": [
    "plt.figure(figsize=(12,5))\n",
    "p = sns.lineplot(range(1,15),train_scores,marker='*',label='Train Score')\n",
    "p = sns.lineplot(range(1,15),test_scores,marker='o',label='Test Score')"
   ]
  },
  {
   "cell_type": "markdown",
   "metadata": {},
   "source": [
    "## Support Vector Machine"
   ]
  },
  {
   "cell_type": "code",
   "execution_count": null,
   "metadata": {},
   "outputs": [],
   "source": [
    "X_train, X_test, y_train, y_test = train_test_split(X,y, test_size=0.30, random_state=42)"
   ]
  },
  {
   "cell_type": "code",
   "execution_count": null,
   "metadata": {},
   "outputs": [],
   "source": [
    "from sklearn.svm import SVC\n",
    "svm_model = SVC(kernel=\"linear\").fit(X_train,y_train)\n",
    "y_pred = svm_model.predict(X_test)"
   ]
  },
  {
   "cell_type": "code",
   "execution_count": null,
   "metadata": {},
   "outputs": [],
   "source": [
    "accuracy_score(y_test,y_pred)"
   ]
  },
  {
   "cell_type": "code",
   "execution_count": null,
   "metadata": {},
   "outputs": [],
   "source": [
    "svm= SVC()"
   ]
  },
  {
   "cell_type": "code",
   "execution_count": null,
   "metadata": {},
   "outputs": [],
   "source": [
    "svm_params = {\"C\": np.arange(1,10),\n",
    "              \"gamma\":(0.001, 0.01, 0.1),\n",
    "              \"kernel\":[\"linear\",\"rbf\"]}\n",
    "\n",
    "#C parametresi, SVM'in sınıflandırma hatasını nasıl kabul edeceğini belirler. C değeri ne kadar büyükse, SVM sınıflandırma hatasını azaltmak için daha fazla çaba harcar. \n",
    "#Gamma'nın değeri ne kadar büyükse, tek bir eğitim örneği, modeldeki diğer örneklerin sınıflandırılmasında daha fazla ağırlığa sahip olur. Bu da modelin eğitim verilerine aşırı uyum yapmasına neden olabilir."
   ]
  },
  {
   "cell_type": "code",
   "execution_count": null,
   "metadata": {},
   "outputs": [],
   "source": [
    "from sklearn.model_selection import GridSearchCV\n",
    "svm_cv = GridSearchCV(svm,svm_params,n_jobs=-1, cv=5, verbose=1, scoring=\"accuracy\")"
   ]
  },
  {
   "cell_type": "code",
   "execution_count": null,
   "metadata": {},
   "outputs": [],
   "source": [
    "svm_cv.fit(X_train, y_train)\n",
    "best_params = svm_cv.best_params_\n",
    "print(f\"Best params: {best_params}\")"
   ]
  },
  {
   "cell_type": "code",
   "execution_count": null,
   "metadata": {},
   "outputs": [],
   "source": [
    "svc_tuned = SVC(C=8,gamma=0.001,kernel='linear').fit(X_train,y_train)\n",
    "y_pred_tuned = svc_tuned.predict(X_test)\n",
    "accuracy_score(y_test,y_pred_tuned)"
   ]
  },
  {
   "cell_type": "code",
   "execution_count": null,
   "metadata": {},
   "outputs": [],
   "source": [
    "from sklearn.metrics import classification_report,confusion_matrix\n",
    "from sklearn.metrics import f1_score, precision_score, recall_score\n",
    "print(\"Classification Report is:\\n\",classification_report(y_test,y_pred_tuned))\n",
    "print(\"\\n F1:\\n\",f1_score(y_test,y_pred_tuned))\n",
    "print(\"\\n Precision score is:\\n\",precision_score(y_test,y_pred_tuned))\n",
    "print(\"\\n Recall score is:\\n\",recall_score(y_test,y_pred_tuned))\n",
    "print(\"\\n Confusion Matrix:\\n\")\n",
    "print(confusion_matrix(y_test,y_pred_tuned))\n",
    "plt.figure(figsize=(15,8))\n",
    "sns.heatmap(confusion_matrix(y_test,y_pred_tuned),annot=True)\n",
    "plt.ylabel('Prediction',fontsize=13)\n",
    "plt.xlabel('Actual',fontsize=13)\n",
    "plt.title('Confusion Matrix',fontsize=17)\n",
    "plt.show()"
   ]
  },
  {
   "cell_type": "code",
   "execution_count": null,
   "metadata": {},
   "outputs": [],
   "source": [
    "from sklearn.tree import DecisionTreeClassifier\n",
    "\n",
    "tree = DecisionTreeClassifier(random_state=42).fit(X_train, y_train)\n",
    "y_pred = tree.predict(X_test)\n",
    "accuracy_score(y_test,y_pred)"
   ]
  },
  {
   "cell_type": "code",
   "execution_count": null,
   "metadata": {},
   "outputs": [],
   "source": [
    "params = {\"criterion\": (\"entropy\",\"gini\"), #Criterion (Kriter): Karar ağacının düğümlerini bölmek için kullanılacak ölçütü belirler. \n",
    "          \"splitter\":(\"best\", \"random\"), #Splitter (Bölücü): Karar ağacının düğümlerini bölme stratejisini belirler.\n",
    "          \"max_depth\":(list(range(1, 10))), #Max_depth (Maksimum Derinlik): Oluşturulacak olan ağacın maksimum derinliğini belirler. \n",
    "          \"min_samples_split\":[2, 3, 4], #Min_samples_split (Minimum Bölme Örnek Sayısı): Bu, bir düğümün bölünmesi için gereken minimum örnek sayısını belirler. \n",
    "          \"min_samples_leaf\":list(range(1, 10)) #Min_samples_leaf (Minimum Yaprak Örnek Sayısı): Bu, bir yaprak düğümü oluşturmak için gerekli olan minimum örnek sayısını belirler.\n",
    "          }"
   ]
  },
  {
   "cell_type": "code",
   "execution_count": null,
   "metadata": {},
   "outputs": [],
   "source": [
    "tree_clf = DecisionTreeClassifier(random_state=42)\n",
    "tree_cv = GridSearchCV(tree_clf, params, scoring=\"accuracy\", n_jobs=-1, verbose=1, cv=5)\n",
    "tree_cv.fit(X_train, y_train)\n",
    "best_params = tree_cv.best_params_"
   ]
  },
  {
   "cell_type": "code",
   "execution_count": null,
   "metadata": {},
   "outputs": [],
   "source": [
    "best_params"
   ]
  },
  {
   "cell_type": "code",
   "execution_count": null,
   "metadata": {},
   "outputs": [],
   "source": [
    "tree_tuned = DecisionTreeClassifier(**best_params)\n",
    "tree_tuned.fit(X_train,y_train)\n",
    "y_pred = tree_tuned.predict(X_test)\n",
    "accuracy_score(y_test,y_pred)"
   ]
  },
  {
   "cell_type": "code",
   "execution_count": null,
   "metadata": {},
   "outputs": [],
   "source": [
    "from sklearn.metrics import classification_report,confusion_matrix\n",
    "from sklearn.metrics import f1_score, precision_score, recall_score\n",
    "print(\"Classification Report is:\\n\",classification_report(y_test,y_pred))\n",
    "print(\"\\n F1:\\n\",f1_score(y_test,y_pred))\n",
    "print(\"\\n Precision score is:\\n\",precision_score(y_test,y_pred))\n",
    "print(\"\\n Recall score is:\\n\",recall_score(y_test,y_pred))\n",
    "print(\"\\n Confusion Matrix:\\n\")\n",
    "print(confusion_matrix(y_test,y_pred))\n",
    "plt.figure(figsize=(15,8))\n",
    "sns.heatmap(confusion_matrix(y_test,y_pred),annot=True)\n",
    "plt.ylabel('Prediction',fontsize=13)\n",
    "plt.xlabel('Actual',fontsize=13)\n",
    "plt.title('Confusion Matrix',fontsize=17)\n",
    "plt.show()"
   ]
  },
  {
   "cell_type": "code",
   "execution_count": null,
   "metadata": {},
   "outputs": [],
   "source": []
  }
 ],
 "metadata": {
  "kernelspec": {
   "display_name": "base",
   "language": "python",
   "name": "python3"
  },
  "language_info": {
   "codemirror_mode": {
    "name": "ipython",
    "version": 3
   },
   "file_extension": ".py",
   "mimetype": "text/x-python",
   "name": "python",
   "nbconvert_exporter": "python",
   "pygments_lexer": "ipython3",
   "version": "3.9.12"
  }
 },
 "nbformat": 4,
 "nbformat_minor": 2
}
