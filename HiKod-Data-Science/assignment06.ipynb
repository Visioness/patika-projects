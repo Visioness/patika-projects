{
 "cells": [
  {
   "cell_type": "code",
   "execution_count": 2,
   "metadata": {},
   "outputs": [],
   "source": [
    "import pandas as pd\n",
    "import numpy as np"
   ]
  },
  {
   "cell_type": "code",
   "execution_count": 37,
   "metadata": {},
   "outputs": [
    {
     "data": {
      "text/plain": [
       "array([ 0,  2,  4,  6,  8, 10])"
      ]
     },
     "execution_count": 37,
     "metadata": {},
     "output_type": "execute_result"
    }
   ],
   "source": [
    "# Creating an array, checking its dimension and shape\n",
    "array = np.array([0, 2, 4, 6, 8, 10], dtype=int)\n",
    "array"
   ]
  },
  {
   "cell_type": "code",
   "execution_count": 13,
   "metadata": {},
   "outputs": [
    {
     "data": {
      "text/plain": [
       "1"
      ]
     },
     "execution_count": 13,
     "metadata": {},
     "output_type": "execute_result"
    }
   ],
   "source": [
    "array.ndim"
   ]
  },
  {
   "cell_type": "code",
   "execution_count": 34,
   "metadata": {},
   "outputs": [
    {
     "data": {
      "text/plain": [
       "6"
      ]
     },
     "execution_count": 34,
     "metadata": {},
     "output_type": "execute_result"
    }
   ],
   "source": [
    "array.size"
   ]
  },
  {
   "cell_type": "code",
   "execution_count": 58,
   "metadata": {},
   "outputs": [
    {
     "data": {
      "text/plain": [
       "array([[34, 17, 45],\n",
       "       [21, 34, 19],\n",
       "       [49, 39, 45],\n",
       "       [ 1, 36, 26]])"
      ]
     },
     "execution_count": 58,
     "metadata": {},
     "output_type": "execute_result"
    }
   ],
   "source": [
    "# 2\n",
    "array_2d = np.random.randint(0, 50, size=(4,3))\n",
    "array_2d"
   ]
  },
  {
   "cell_type": "code",
   "execution_count": 59,
   "metadata": {},
   "outputs": [
    {
     "name": "stdout",
     "output_type": "stream",
     "text": [
      "2\n",
      "12\n",
      "array_2d has 4 rows and 3 columns.\n",
      "[21 34 19]\n",
      "45\n"
     ]
    }
   ],
   "source": [
    "print(array_2d.ndim)\n",
    "print(array_2d.size)\n",
    "print(f'array_2d has {array_2d.shape[-2]} rows and {array_2d.shape[-1]} columns.')\n",
    "print(array_2d[1, :])\n",
    "print(array_2d[2, 2])"
   ]
  },
  {
   "cell_type": "code",
   "execution_count": 60,
   "metadata": {},
   "outputs": [
    {
     "data": {
      "text/plain": [
       "array([[[26, 22, 24, 41,  3, 19],\n",
       "        [ 8, 44, 42, 43,  3, 22],\n",
       "        [26, 35, 40, 12,  3,  3],\n",
       "        [39, 29, 32,  8, 33, 21],\n",
       "        [26, 48,  8, 41,  6, 40]],\n",
       "\n",
       "       [[36, 39,  5,  1, 41, 19],\n",
       "        [ 6, 46, 37,  2,  0, 45],\n",
       "        [29, 39, 31, 37, 27, 39],\n",
       "        [39, 32, 13, 34, 47, 41],\n",
       "        [49, 31, 10, 24,  7, 47]],\n",
       "\n",
       "       [[18, 24, 16, 18, 45,  4],\n",
       "        [49, 20, 24, 25, 47, 18],\n",
       "        [ 6, 29, 34,  7, 41,  7],\n",
       "        [44,  1, 25,  3, 45, 14],\n",
       "        [ 6, 48, 27, 23, 13, 32]]])"
      ]
     },
     "execution_count": 60,
     "metadata": {},
     "output_type": "execute_result"
    }
   ],
   "source": [
    "array_3d = np.random.randint(0, 50, size=(3,5,6))\n",
    "array_3d"
   ]
  },
  {
   "cell_type": "code",
   "execution_count": 61,
   "metadata": {},
   "outputs": [
    {
     "name": "stdout",
     "output_type": "stream",
     "text": [
      "3\n",
      "90\n",
      "array_3d has 5 rows and 6 columns.\n",
      "37\n",
      "[[32  8 33]\n",
      " [ 8 41  6]]\n"
     ]
    }
   ],
   "source": [
    "print(array_3d.ndim)\n",
    "print(array_3d.size)\n",
    "print(f'array_3d has {array_3d.shape[-2]} rows and {array_3d.shape[-1]} columns.')\n",
    "print(array_3d[1, 2, 3])\n",
    "print(array_3d[0, 3:, 2:5])"
   ]
  },
  {
   "cell_type": "code",
   "execution_count": 63,
   "metadata": {},
   "outputs": [],
   "source": [
    "# 3\n",
    "array_1d = np.random.randint(0, 50, size=6)\n",
    "array_2d = np.random.randint(0, 50, size=(2, 7))\n",
    "array_3d = np.random.randint(0, 50, size=(3, 4, 5))"
   ]
  },
  {
   "cell_type": "code",
   "execution_count": 64,
   "metadata": {},
   "outputs": [
    {
     "name": "stdout",
     "output_type": "stream",
     "text": [
      "[32 40 32 29 38 23]\n",
      "[29 38 23]\n",
      "38\n"
     ]
    }
   ],
   "source": [
    "print(array_1d)\n",
    "print(array_1d[3:])\n",
    "print(array_1d[4])"
   ]
  },
  {
   "cell_type": "code",
   "execution_count": 65,
   "metadata": {},
   "outputs": [
    {
     "name": "stdout",
     "output_type": "stream",
     "text": [
      "[[43 40 34 19 40 22 28]\n",
      " [43  1  8 21 15 28 40]]\n",
      "[[43 40 34 19 40 22 28]\n",
      " [43  1  8 21 15 28 40]]\n",
      "[21 15 28 40]\n",
      "34\n"
     ]
    }
   ],
   "source": [
    "print(array_2d)\n",
    "print(array_2d[:, :])\n",
    "print(array_2d[1, 3:])\n",
    "print(array_2d[0, 2])"
   ]
  },
  {
   "cell_type": "code",
   "execution_count": 67,
   "metadata": {},
   "outputs": [
    {
     "name": "stdout",
     "output_type": "stream",
     "text": [
      "[[[49 38 16 38 10]\n",
      "  [45 25 38 15 14]\n",
      "  [31 12 33 36 26]\n",
      "  [39 29 36 16  6]]\n",
      "\n",
      " [[ 0 23  3 11 13]\n",
      "  [22 23 49  7 20]\n",
      "  [34  6 46 29  0]\n",
      "  [ 1  1 41 25  4]]\n",
      "\n",
      " [[ 0 11 11 16  5]\n",
      "  [41  6  8 31 15]\n",
      "  [32 48 35 29 29]\n",
      "  [38 21 49 30 27]]]\n",
      "[[[29  0]\n",
      "  [25  4]]\n",
      "\n",
      " [[29 29]\n",
      "  [30 27]]]\n",
      "35\n",
      "[14 26  6]\n"
     ]
    }
   ],
   "source": [
    "print(array_3d)\n",
    "print(array_3d[1:, 2:, 3:])\n",
    "print(array_3d[2, 2, 2])\n",
    "print(array_3d[0, 1:, 4])"
   ]
  },
  {
   "cell_type": "code",
   "execution_count": 82,
   "metadata": {},
   "outputs": [
    {
     "data": {
      "text/plain": [
       "array([[0, 0, 0],\n",
       "       [0, 0, 0],\n",
       "       [0, 0, 0]])"
      ]
     },
     "execution_count": 82,
     "metadata": {},
     "output_type": "execute_result"
    }
   ],
   "source": [
    "# 4\n",
    "zeros = np.zeros((3,3), dtype=int)\n",
    "zeros"
   ]
  },
  {
   "cell_type": "code",
   "execution_count": 77,
   "metadata": {},
   "outputs": [
    {
     "data": {
      "text/plain": [
       "array([[1, 1, 1],\n",
       "       [1, 1, 1],\n",
       "       [1, 1, 1]])"
      ]
     },
     "execution_count": 77,
     "metadata": {},
     "output_type": "execute_result"
    }
   ],
   "source": [
    "ones = np.ones((3,3), dtype=int)\n",
    "ones"
   ]
  },
  {
   "cell_type": "code",
   "execution_count": 91,
   "metadata": {},
   "outputs": [
    {
     "data": {
      "text/plain": [
       "array([[0, 0, 0],\n",
       "       [0, 0, 0],\n",
       "       [0, 0, 0],\n",
       "       [1, 1, 1],\n",
       "       [1, 1, 1],\n",
       "       [1, 1, 1]])"
      ]
     },
     "execution_count": 91,
     "metadata": {},
     "output_type": "execute_result"
    }
   ],
   "source": [
    "mixed1 = np.concatenate((zeros, ones), axis=0)\n",
    "mixed1"
   ]
  },
  {
   "cell_type": "code",
   "execution_count": 92,
   "metadata": {},
   "outputs": [
    {
     "data": {
      "text/plain": [
       "array([[0, 0, 0, 1, 1, 1],\n",
       "       [0, 0, 0, 1, 1, 1],\n",
       "       [0, 0, 0, 1, 1, 1]])"
      ]
     },
     "execution_count": 92,
     "metadata": {},
     "output_type": "execute_result"
    }
   ],
   "source": [
    "mixed2 = np.concatenate((zeros, ones), axis=1)\n",
    "mixed2"
   ]
  },
  {
   "cell_type": "code",
   "execution_count": 93,
   "metadata": {},
   "outputs": [
    {
     "data": {
      "text/plain": [
       "array([[0, 0, 0, 0, 0, 0, 0, 0, 0],\n",
       "       [1, 1, 1, 1, 1, 1, 1, 1, 1]])"
      ]
     },
     "execution_count": 93,
     "metadata": {},
     "output_type": "execute_result"
    }
   ],
   "source": [
    "mixed1.reshape((2, 9))"
   ]
  },
  {
   "cell_type": "code",
   "execution_count": 94,
   "metadata": {},
   "outputs": [
    {
     "data": {
      "text/plain": [
       "array([[0, 0],\n",
       "       [0, 1],\n",
       "       [1, 1],\n",
       "       [0, 0],\n",
       "       [0, 1],\n",
       "       [1, 1],\n",
       "       [0, 0],\n",
       "       [0, 1],\n",
       "       [1, 1]])"
      ]
     },
     "execution_count": 94,
     "metadata": {},
     "output_type": "execute_result"
    }
   ],
   "source": [
    "mixed2.reshape((9, 2))"
   ]
  }
 ],
 "metadata": {
  "kernelspec": {
   "display_name": "HiKod-Data-Science",
   "language": "python",
   "name": "python3"
  },
  "language_info": {
   "codemirror_mode": {
    "name": "ipython",
    "version": 3
   },
   "file_extension": ".py",
   "mimetype": "text/x-python",
   "name": "python",
   "nbconvert_exporter": "python",
   "pygments_lexer": "ipython3",
   "version": "3.10.12"
  }
 },
 "nbformat": 4,
 "nbformat_minor": 2
}
